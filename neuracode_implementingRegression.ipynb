{
  "nbformat": 4,
  "nbformat_minor": 0,
  "metadata": {
    "colab": {
      "name": "neuracode_implementingRegression.ipynb",
      "provenance": [],
      "authorship_tag": "ABX9TyP9YsE0C2dTW7RPvsx1qp6m",
      "include_colab_link": true
    },
    "kernelspec": {
      "name": "python3",
      "display_name": "Python 3"
    },
    "language_info": {
      "name": "python"
    }
  },
  "cells": [
    {
      "cell_type": "markdown",
      "metadata": {
        "id": "view-in-github",
        "colab_type": "text"
      },
      "source": [
        "<a href=\"https://colab.research.google.com/github/frankchang1000/neuracodeMLClass/blob/main/neuracode_implementingRegression.ipynb\" target=\"_parent\"><img src=\"https://colab.research.google.com/assets/colab-badge.svg\" alt=\"Open In Colab\"/></a>"
      ]
    },
    {
      "cell_type": "markdown",
      "source": [
        "# **MAKE SURE TO CLICK COPY TO DRIVE AT THE TOP SO YOUR CHANGES SAVE!!!!!**\n"
      ],
      "metadata": {
        "id": "FKqbRT_fuyro"
      }
    },
    {
      "cell_type": "markdown",
      "source": [
        "In this notebook, we will learn how to implement the different regression algorithms that we learned about in the slides.\n",
        "\n",
        "For convenience, we'll use the **diabetes** dataset that comes with the sklearn package\n"
      ],
      "metadata": {
        "id": "QFuuYi6rvL_J"
      }
    },
    {
      "cell_type": "code",
      "source": [
        "#imports\n",
        "%matplotlib inline\n",
        "import numpy as np\n",
        "import pandas as pd\n",
        "import matplotlib.pyplot as plt\n",
        "\n",
        "from sklearn.model_selection import train_test_split\n",
        "from sklearn import datasets, linear_model, tree\n",
        "from sklearn.neighbors import KNeighborsRegressor\n",
        "from sklearn.metrics import mean_squared_error, r2_score"
      ],
      "metadata": {
        "id": "pQoC0nqAx8d6"
      },
      "execution_count": null,
      "outputs": []
    },
    {
      "cell_type": "markdown",
      "source": [
        "First, lets load and explore the diabetes dataset"
      ],
      "metadata": {
        "id": "-wjw2swxyHQ1"
      }
    },
    {
      "cell_type": "code",
      "source": [
        "#load dataset as dataframe to explore\n",
        "X, y = datasets.load_diabetes(return_X_y=True, as_frame = True)\n",
        "\n",
        "#load dataset as dataframe for plotting\n",
        "diabetes = datasets.load_diabetes(as_frame=True)"
      ],
      "metadata": {
        "id": "XQ3UHUr2yKdS"
      },
      "execution_count": null,
      "outputs": []
    },
    {
      "cell_type": "code",
      "source": [
        "#print dataframe\n",
        "X.head()"
      ],
      "metadata": {
        "id": "XHNMYQTEyzvs"
      },
      "execution_count": null,
      "outputs": []
    },
    {
      "cell_type": "markdown",
      "source": [
        "Note: The reason why the values might seem a little weird is beacause they have been scaled for linear regression purposes"
      ],
      "metadata": {
        "id": "QUfS4z4Jz5eM"
      }
    },
    {
      "cell_type": "markdown",
      "source": [
        "Now, let's plot the feature data against the target data\n",
        "- Target data is a metric of how much the disease progessed in the patient after one year"
      ],
      "metadata": {
        "id": "fNzXhb0C0btu"
      }
    },
    {
      "cell_type": "code",
      "source": [
        "# Don't plot the sex data\n",
        "features = diabetes['feature_names']\n",
        "features.remove('sex')\n",
        "\n",
        "# Plot\n",
        "fig, axs = plt.subplots(3, 3)\n",
        "fig.suptitle('Diabetes Dataset')\n",
        "for i in range(3):\n",
        "    for j in range(3):\n",
        "        n = j + i * 3\n",
        "        feature = features[n]\n",
        "        axs[i, j].scatter(diabetes['data'][feature], diabetes['target'], s=1)\n",
        "        axs[i, j].set_xlabel(feature)\n",
        "        axs[i, j].set_ylabel('target')\n",
        "plt.tight_layout()\n",
        "plt.show()"
      ],
      "metadata": {
        "id": "34_INp4h1hDE"
      },
      "execution_count": null,
      "outputs": []
    },
    {
      "cell_type": "markdown",
      "source": [
        "# Implementing Linear Regression\n",
        "For linear regression, we will only load one feature for simplicity."
      ],
      "metadata": {
        "id": "Zl1SFbq-1l_0"
      }
    },
    {
      "cell_type": "code",
      "source": [
        "# load dataset\n",
        "diabetes_X, diabetes_y = datasets.load_diabetes(return_X_y=True)\n",
        "\n",
        "# Use only one feature\n",
        "diabetes_X = diabetes_X[:, np.newaxis, 2]"
      ],
      "metadata": {
        "id": "gK-ey0B82G4F"
      },
      "execution_count": null,
      "outputs": []
    },
    {
      "cell_type": "code",
      "source": [
        "# split data into training/testing sets\n",
        "# hint: we need X_train, X_test, y_train and y_test\n",
        "____, ____, ____, ____ = train_test_split(diabetes_X, diabetes_y)   #FILL IN HERE"
      ],
      "metadata": {
        "id": "wc_5aoFg2qsm"
      },
      "execution_count": null,
      "outputs": []
    },
    {
      "cell_type": "code",
      "source": [
        "# initialize the model\n",
        "model = linear_model.LinearRegression()"
      ],
      "metadata": {
        "id": "ER2ZlFPj2qSl"
      },
      "execution_count": null,
      "outputs": []
    },
    {
      "cell_type": "code",
      "source": [
        "# train the model\n",
        "model.fit(_____, _____) #FILL IN HERE (training data)"
      ],
      "metadata": {
        "id": "BX2lqhmb2snp"
      },
      "execution_count": null,
      "outputs": []
    },
    {
      "cell_type": "code",
      "source": [
        "# make the predictions with test data\n",
        "# hint: what variable is input for our test?\n",
        "y_pred = model.predict(____)  #FILL IN HERE\n",
        "\n",
        "# print accuracy\n",
        "print(\"r squared score: \" + str(r2_score(y_test, y_pred)))"
      ],
      "metadata": {
        "id": "d4UbYSd4274s"
      },
      "execution_count": null,
      "outputs": []
    },
    {
      "cell_type": "code",
      "source": [
        "# plot the data\n",
        "plt.scatter(X_test, y_test, color = \"black\")\n",
        "plt.plot(X_test, y_pred, color = \"blue\", linewidth = 3)\n",
        "plt.show()"
      ],
      "metadata": {
        "id": "K_P_jd1HnGXf"
      },
      "execution_count": null,
      "outputs": []
    },
    {
      "cell_type": "markdown",
      "source": [
        "# Implementing Decision Trees"
      ],
      "metadata": {
        "id": "bJO_t0vh1yJn"
      }
    },
    {
      "cell_type": "markdown",
      "source": [
        "Implementing regression with decision trees and KNN follow the same steps, only we change the model."
      ],
      "metadata": {
        "id": "Ajkq9eholPmf"
      }
    },
    {
      "cell_type": "code",
      "source": [
        "# we don't need to split our data again, just change the model\n",
        "\n",
        "model = tree.DecisionTreeClassifier(max_depth = 3) # you can mess around with different max_depth values"
      ],
      "metadata": {
        "id": "1-KARe6glPHp"
      },
      "execution_count": null,
      "outputs": []
    },
    {
      "cell_type": "code",
      "source": [
        "# train the model\n",
        "# FILL IN HERE\n"
      ],
      "metadata": {
        "id": "pGXUGW3Fl13p"
      },
      "execution_count": null,
      "outputs": []
    },
    {
      "cell_type": "code",
      "source": [
        "# make predictions with test data \n",
        "# FILL IN HERE\n",
        "\n",
        "print(\"r squared score: \" + str(r2_score(y_test, y_pred)))"
      ],
      "metadata": {
        "id": "Po1Ot-MJl2UY"
      },
      "execution_count": null,
      "outputs": []
    },
    {
      "cell_type": "code",
      "source": [
        "# plotting the data\n",
        "plt.figure()\n",
        "plt.scatter(diabetes_X, diabetes_y, s=20, edgecolor=\"black\", c=\"darkorange\", label=\"data\")\n",
        "plt.plot(X_test, y_pred, color=\"cornflowerblue\", label=\"max_depth=3\", linewidth=2)\n",
        "plt.xlabel(\"data\")\n",
        "plt.ylabel(\"target\")\n",
        "plt.title(\"Decision Tree Regression\")\n",
        "plt.show()"
      ],
      "metadata": {
        "id": "KVmBYtFGm3W5"
      },
      "execution_count": null,
      "outputs": []
    },
    {
      "cell_type": "markdown",
      "source": [
        "As you can see, although decision trees can be used for both regression and classification, they don't work too well for regression problems."
      ],
      "metadata": {
        "id": "lXEbM6vqp2eL"
      }
    },
    {
      "cell_type": "markdown",
      "source": [
        "# Implementing K Nearest Neighbors"
      ],
      "metadata": {
        "id": "VoJCFGko13BV"
      }
    },
    {
      "cell_type": "code",
      "source": [
        "# select our knn model\n",
        "\n",
        "model = KNeighborsRegressor(7) #test different values here!"
      ],
      "metadata": {
        "id": "cGd0_BijqI58"
      },
      "execution_count": null,
      "outputs": []
    },
    {
      "cell_type": "code",
      "source": [
        "# train the model\n",
        "# FILL IN HERE\n"
      ],
      "metadata": {
        "id": "Gjj2-jhorMHF"
      },
      "execution_count": null,
      "outputs": []
    },
    {
      "cell_type": "code",
      "source": [
        "# make predictions with test data\n",
        "# FILL IN HERE\n",
        "\n",
        "print(\"r squared score: \" + str(r2_score(y_test, y_pred)))"
      ],
      "metadata": {
        "id": "gGagSD-yrMU2"
      },
      "execution_count": null,
      "outputs": []
    },
    {
      "cell_type": "code",
      "source": [
        "# plot data\n",
        "plt.scatter(diabetes_X, diabetes_y, s=5, color=\"blue\", label=\"original\")\n",
        "plt.plot(X_test, y_pred, lw=1.5, color=\"red\", label=\"predicted\")\n",
        "plt.legend()"
      ],
      "metadata": {
        "id": "bPKmv8TSrMaI"
      },
      "execution_count": null,
      "outputs": []
    },
    {
      "cell_type": "markdown",
      "source": [
        "Congrats! You reached the end of this notebook. We didn't achieve great accuracy, but remember that we only used two features of the data. You can try adding other features back to see if our accuracy will improve!"
      ],
      "metadata": {
        "id": "VnEXXQMMu0W2"
      }
    },
    {
      "cell_type": "markdown",
      "source": [
        "Note: This notebook was created by Frank Chang (2022)\n",
        "\n",
        "https://github.com/frankchang1000"
      ],
      "metadata": {
        "id": "A4Pfx96NvEAk"
      }
    }
  ]
}